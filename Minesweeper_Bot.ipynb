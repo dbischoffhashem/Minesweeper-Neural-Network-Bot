{
  "nbformat": 4,
  "nbformat_minor": 0,
  "metadata": {
    "colab": {
      "provenance": [],
      "collapsed_sections": [
        "Fnck-tBF29do",
        "qt-33bqt3TIa",
        "J5taJqaHcy9c",
        "VWk_mAzVMufR",
        "sV_ZfI7Lb-ZM",
        "InhIE_1JpDqv",
        "GXCHKLdApewa"
      ],
      "authorship_tag": "ABX9TyP2teaa8pakHcwLIP/A/UT8",
      "include_colab_link": true
    },
    "kernelspec": {
      "name": "python3",
      "display_name": "Python 3"
    },
    "language_info": {
      "name": "python"
    }
  },
  "cells": [
    {
      "cell_type": "markdown",
      "metadata": {
        "id": "view-in-github",
        "colab_type": "text"
      },
      "source": [
        "<a href=\"https://colab.research.google.com/github/dbischoffhashem/Minesweeper-Neural-Network-Bot/blob/main/Minesweeper_Bot.ipynb\" target=\"_parent\"><img src=\"https://colab.research.google.com/assets/colab-badge.svg\" alt=\"Open In Colab\"/></a>"
      ]
    },
    {
      "cell_type": "markdown",
      "source": [
        "# Minesweeper: Logic Bot vs Neural Network Bot"
      ],
      "metadata": {
        "id": "K6kFI5D6_y2_"
      }
    },
    {
      "cell_type": "markdown",
      "source": [
        "### Generating Data"
      ],
      "metadata": {
        "id": "XMoPbYfrUzn0"
      }
    },
    {
      "cell_type": "code",
      "source": [
        "import random\n",
        "import numpy as np\n",
        "\n",
        "class Minesweeper:\n",
        "    def __init__(self, width, height, num_mines):\n",
        "        self.width = width\n",
        "        self.height = height\n",
        "        self.board = [[-2 for _ in range(width)] for _ in range(height)]  # -2 for hidden cells\n",
        "        self.revealed = [[False] * width for _ in range(height)]\n",
        "        self.cells_remaining = {(x, y) for x in range(height) for y in range(width)}\n",
        "        self.inferred_safe = set()\n",
        "        self.inferred_mines = set()\n",
        "        self.clue_numbers = {}\n",
        "        self._place_mines(num_mines)\n",
        "        self._calculate_clues()\n",
        "\n",
        "    def _place_mines(self, num_mines):\n",
        "        placed = 0\n",
        "        while placed < num_mines:\n",
        "            x, y = random.randint(0, self.height - 1), random.randint(0, self.width - 1)\n",
        "            if self.board[x][y] == -2:\n",
        "                self.board[x][y] = -1  # -1 for mines\n",
        "                placed += 1\n",
        "\n",
        "    def _calculate_clues(self):\n",
        "        for x in range(self.height):\n",
        "            for y in range(self.width):\n",
        "                if self.board[x][y] == -1:\n",
        "                    continue\n",
        "                count = 0\n",
        "                for dx in [-1, 0, 1]:\n",
        "                    for dy in [-1, 0, 1]:\n",
        "                        nx, ny = x + dx, y + dy\n",
        "                        if 0 <= nx < self.height and 0 <= ny < self.width and self.board[nx][ny] == -1:\n",
        "                            count += 1\n",
        "                self.board[x][y] = count\n",
        "\n",
        "    def reveal(self, x, y):\n",
        "        self.revealed[x][y] = True\n",
        "        self.cells_remaining.remove((x, y))\n",
        "        if self.board[x][y] == -1:\n",
        "            return -1\n",
        "        else:\n",
        "            self.clue_numbers[(x, y)] = self.board[x][y]\n",
        "            return self.board[x][y]\n",
        "\n",
        "    def get_visible_board(self):\n",
        "        return [[self.board[x][y] if self.revealed[x][y] else -2 for y in range(self.width)] for x in range(self.height)]\n",
        "\n",
        "    def get_full_board(self):\n",
        "        return [[self.board[x][y] for y in range(self.width)] for x in range(self.height)]"
      ],
      "metadata": {
        "id": "d44bLucIvoZc"
      },
      "execution_count": null,
      "outputs": []
    },
    {
      "cell_type": "code",
      "source": [
        "def play_minesweeper(width, height, num_mines):\n",
        "    game = Minesweeper(width, height, num_mines)\n",
        "\n",
        "    # Initialize sets and maps\n",
        "    cells_remaining = {(x, y) for x in range(game.height) for y in range(game.width)}  # All cells initially\n",
        "    inferred_safe = set()\n",
        "    inferred_mines = set()\n",
        "    clue_numbers = {}\n",
        "    won = False\n",
        "    steps = 0\n",
        "\n",
        "    # Initial reveal: choose a cell with a '0' clue if possible\n",
        "    possible_starts = [(x, y) for x in range(game.height) for y in range(game.width) if game.board[x][y] == 0]\n",
        "    if possible_starts:\n",
        "        x, y = random.choice(possible_starts)\n",
        "    else:\n",
        "        x, y = random.randint(0, game.height - 1), random.randint(0, game.width - 1)\n",
        "\n",
        "    result = game.reveal(x, y)\n",
        "    cells_remaining.remove((x, y))\n",
        "    clue_numbers[(x, y)] = result\n",
        "\n",
        "    visible_boards = [game.get_visible_board()]  # Initial state before any moves\n",
        "    steps += 1\n",
        "    game_over = False\n",
        "\n",
        "    neighbors = [(x+dx, y+dy) for dx in [-1, 0, 1] for dy in [-1, 0, 1] if (dx != 0 or dy != 0) and 0 <= x+dx < game.height and 0 <= y+dy < game.width]\n",
        "\n",
        "    while True:\n",
        "        inferred_mines_copy = inferred_mines.copy()\n",
        "        inferred_safe_copy = inferred_safe.copy()\n",
        "\n",
        "        unrevealed_neighbors = [pos for pos in neighbors if pos in cells_remaining]\n",
        "        revealed_safe_neighbors = [pos for pos in neighbors if pos not in unrevealed_neighbors and pos not in inferred_mines]\n",
        "        inferred_mine_neighbors = [pos for pos in neighbors if pos in inferred_mines]\n",
        "\n",
        "        if len(unrevealed_neighbors) > 0:\n",
        "            # Clue - mines found\n",
        "            clue_mines_left = clue_numbers[(x, y)] - len(inferred_mine_neighbors)\n",
        "            if clue_mines_left == len(unrevealed_neighbors):\n",
        "                inferred_mines.update(unrevealed_neighbors)\n",
        "                cells_remaining.difference_update(unrevealed_neighbors)\n",
        "\n",
        "            # Clue - safes found\n",
        "            safe_unrevealed_left = len(neighbors) - clue_numbers[(x, y)] - len(revealed_safe_neighbors)\n",
        "            if safe_unrevealed_left == len(unrevealed_neighbors):\n",
        "                inferred_safe.update(unrevealed_neighbors)\n",
        "                cells_remaining.difference_update(unrevealed_neighbors)\n",
        "\n",
        "        if inferred_mines_copy == inferred_mines and inferred_safe_copy == inferred_safe:\n",
        "            break\n",
        "\n",
        "    while not game_over:\n",
        "        if inferred_safe:\n",
        "            x, y = inferred_safe.pop()\n",
        "        else:\n",
        "            x, y = random.choice(list(cells_remaining))\n",
        "            cells_remaining.remove((x, y))\n",
        "\n",
        "        result = game.reveal(x, y)\n",
        "        if result == -1:  # Hit a mine, game ends\n",
        "            game_over = True\n",
        "            break\n",
        "\n",
        "        clue_numbers[(x, y)] = result\n",
        "        visible_boards.append(game.get_visible_board())\n",
        "        steps += 1\n",
        "\n",
        "        for (x, y) in clue_numbers.keys():\n",
        "            clue = clue_numbers[(x, y)]\n",
        "            neighbors = [(x+dx, y+dy) for dx in [-1, 0, 1] for dy in [-1, 0, 1] if (dx != 0 or dy != 0) and 0 <= x+dx < game.height and 0 <= y+dy < game.width]\n",
        "\n",
        "            while True:\n",
        "                inferred_mines_copy = inferred_mines.copy()\n",
        "                inferred_safe_copy = inferred_safe.copy()\n",
        "\n",
        "                unrevealed_neighbors = [pos for pos in neighbors if pos in cells_remaining]\n",
        "                revealed_safe_neighbors = [pos for pos in neighbors if pos not in unrevealed_neighbors and pos not in inferred_mines]\n",
        "                inferred_mine_neighbors = [pos for pos in neighbors if pos in inferred_mines]\n",
        "\n",
        "                if len(unrevealed_neighbors) > 0:\n",
        "                    # Update inferred mines\n",
        "                    clue_mines_left = clue - len(inferred_mine_neighbors)\n",
        "                    if clue_mines_left == len(unrevealed_neighbors):\n",
        "                        inferred_mines.update(unrevealed_neighbors)\n",
        "                        cells_remaining.difference_update(unrevealed_neighbors)\n",
        "\n",
        "                    # Update inferred safe\n",
        "                    safe_unrevealed_left = len(neighbors) - clue - len(revealed_safe_neighbors)\n",
        "                    if safe_unrevealed_left == len(unrevealed_neighbors):\n",
        "                        inferred_safe.update(unrevealed_neighbors)\n",
        "                        cells_remaining.difference_update(unrevealed_neighbors)\n",
        "\n",
        "                if inferred_mines_copy == inferred_mines and inferred_safe_copy == inferred_safe:\n",
        "                    break\n",
        "\n",
        "        if not cells_remaining and not inferred_safe:\n",
        "            won = True\n",
        "            game_over = True\n",
        "\n",
        "    return np.array(game.get_full_board()), [np.array(board) for board in visible_boards], won"
      ],
      "metadata": {
        "id": "DgR2_by289Xo"
      },
      "execution_count": null,
      "outputs": []
    },
    {
      "cell_type": "markdown",
      "source": [
        "Testing Logic Bot Performance"
      ],
      "metadata": {
        "id": "H5T7nIoiu69z"
      }
    },
    {
      "cell_type": "code",
      "source": [
        "from scipy.stats import norm\n",
        "\n",
        "def test_logic_bot_performance(total_games, width, height, num_mines):\n",
        "    games_won = 0\n",
        "    total_steps = 0\n",
        "    steps_per_game = []  # To store the steps taken per game for CI calculation\n",
        "\n",
        "    for _ in range(total_games):\n",
        "        _, visible_boards, won = play_minesweeper(width, height, num_mines)\n",
        "        if won:\n",
        "            steps = len(visible_boards)  # Number of boards revealed equals the steps taken\n",
        "            games_won += 1\n",
        "            total_steps += steps\n",
        "            steps_per_game.append(steps)\n",
        "            #print(len(steps_per_game))\n",
        "\n",
        "    win_rate = games_won / total_games * 100\n",
        "    average_steps = total_steps/total_games\n",
        "\n",
        "    confidence_level = 0.95\n",
        "    z_value = norm.ppf(1 - (1 - confidence_level) / 2)\n",
        "\n",
        "    # Confidence interval for win rate\n",
        "    win_rate_std_error = np.sqrt((win_rate / 100) * (1 - win_rate / 100) / total_games)\n",
        "    win_rate_margin_of_error = z_value * win_rate_std_error * 100  # Convert back to percentage\n",
        "    win_rate_ci = (win_rate - win_rate_margin_of_error, win_rate + win_rate_margin_of_error)\n",
        "\n",
        "    # # Confidence interval for average steps\n",
        "    if len(steps_per_game) > 1:\n",
        "        steps_std_error = np.std(steps_per_game, ddof=1) / np.sqrt(len(steps_per_game))\n",
        "        steps_margin_of_error = z_value * steps_std_error\n",
        "        average_steps_ci = (average_steps - steps_margin_of_error, average_steps + steps_margin_of_error)\n",
        "    else:\n",
        "        average_steps_ci = (average_steps, average_steps)\n",
        "\n",
        "    #print(\"Easy Mode\")\n",
        "    print(f\"Games Won: {games_won}\")\n",
        "    print(f\"Win Rate: {win_rate:.2f}% (95% CI: {win_rate_ci[0]:.2f}% - {win_rate_ci[1]:.2f}%)\")\n",
        "    print(f\"Average Steps Survived: {average_steps:.2f}\")"
      ],
      "metadata": {
        "id": "c_8IB5rRMU-Z"
      },
      "execution_count": null,
      "outputs": []
    },
    {
      "cell_type": "code",
      "source": [
        "total_games = 500\n",
        "test_logic_bot_performance(total_games, 9, 9, 10)"
      ],
      "metadata": {
        "colab": {
          "base_uri": "https://localhost:8080/"
        },
        "id": "RBS0M4Dsu5s9",
        "outputId": "649df21f-498f-4246-f9a6-bdbc7b51e715"
      },
      "execution_count": null,
      "outputs": [
        {
          "output_type": "stream",
          "name": "stdout",
          "text": [
            "Games Won: 387\n",
            "Win Rate: 77.40% (95% CI: 73.73% - 81.07%)\n",
            "Average Steps Survived: 54.95\n"
          ]
        }
      ]
    },
    {
      "cell_type": "code",
      "source": [
        "# Medium Difficulty\n",
        "total_games = 500\n",
        "test_logic_bot_performance(total_games, 16, 16, 40)"
      ],
      "metadata": {
        "id": "lS9f-u2Ou59n",
        "colab": {
          "base_uri": "https://localhost:8080/"
        },
        "outputId": "796a2f00-3c4f-43ec-ec58-58ade94f7e5f"
      },
      "execution_count": null,
      "outputs": [
        {
          "output_type": "stream",
          "name": "stdout",
          "text": [
            "Games Won: 245\n",
            "Win Rate: 49.00% (95% CI: 44.62% - 53.38%)\n",
            "Average Steps Survived: 105.84\n"
          ]
        }
      ]
    },
    {
      "cell_type": "code",
      "source": [
        "# Hard Difficulty\n",
        "total_games = 500\n",
        "test_logic_bot_performance(total_games, 30, 16, 99)"
      ],
      "metadata": {
        "id": "K9jRP0pEz2o6",
        "colab": {
          "base_uri": "https://localhost:8080/"
        },
        "outputId": "4e4783b4-f6b8-4c83-9bfa-bb4a1e80880e"
      },
      "execution_count": null,
      "outputs": [
        {
          "output_type": "stream",
          "name": "stdout",
          "text": [
            "Games Won: 4\n",
            "Win Rate: 0.80% (95% CI: 0.02% - 1.58%)\n",
            "Average Steps Survived: 3.05\n"
          ]
        }
      ]
    },
    {
      "cell_type": "markdown",
      "source": [
        "Generating Training Data"
      ],
      "metadata": {
        "id": "RDLjFlLMt0Xd"
      }
    },
    {
      "cell_type": "markdown",
      "source": [
        "I will only include winning games in my data I use to train the network with. This ensure the network only learns based on cell selections that were successful."
      ],
      "metadata": {
        "id": "nl5FmaJ0ELPO"
      }
    },
    {
      "cell_type": "code",
      "source": [
        "import torch\n",
        "import numpy as np\n",
        "\n",
        "def generate_training_data(num_games, width, height, num_mines):\n",
        "    game_states_list = []\n",
        "    safety_boards_list = []\n",
        "\n",
        "    for _ in range(num_games):\n",
        "        full_board, game_steps, won = play_minesweeper(width, height, num_mines)\n",
        "        if won:\n",
        "            # Convert the full board to a safety board\n",
        "            safety_board = (np.array(full_board) != -1).astype(int)\n",
        "\n",
        "            # Prepare data for each game\n",
        "            for state in game_steps:\n",
        "                game_states_list.append(np.array(state).reshape(1, width, height))  # reshape\n",
        "                safety_boards_list.append(safety_board)  # same safety board for all steps of the game\n",
        "\n",
        "    # Convert lists to a single array before creating tensors\n",
        "    game_states_array = np.array(game_states_list)\n",
        "    safety_boards_array = np.array(safety_boards_list)\n",
        "\n",
        "    # Convert arrays to tensors\n",
        "    game_states_tensor = torch.FloatTensor(game_states_array)\n",
        "    safety_boards_tensor = torch.FloatTensor(safety_boards_array)\n",
        "\n",
        "    return game_states_tensor, safety_boards_tensor"
      ],
      "metadata": {
        "id": "TkR2OEuVV1aM"
      },
      "execution_count": null,
      "outputs": []
    },
    {
      "cell_type": "markdown",
      "source": [
        "### Neural Network"
      ],
      "metadata": {
        "id": "Fnck-tBF29do"
      }
    },
    {
      "cell_type": "code",
      "source": [
        "import torch\n",
        "import torch.nn as nn\n",
        "import torch.optim as optim\n",
        "\n",
        "class MinesweeperCNN(nn.Module):\n",
        "    def __init__(self, board_size):\n",
        "        super(MinesweeperCNN, self).__init__()\n",
        "        self.conv1 = nn.Conv2d(1, 32, kernel_size=5, padding=2)\n",
        "        self.conv2 = nn.Conv2d(32, 64, kernel_size=3, padding=1)\n",
        "        self.conv3 = nn.Conv2d(64, 1, kernel_size=3, padding=1)\n",
        "\n",
        "        self.sigmoid = nn.Sigmoid()\n",
        "\n",
        "    def forward(self, x):\n",
        "        x = torch.relu(self.conv1(x))\n",
        "        x = torch.relu(self.conv2(x))\n",
        "        x = self.sigmoid(self.conv3(x))\n",
        "        return x"
      ],
      "metadata": {
        "id": "IxHcPQ9T27nt"
      },
      "execution_count": null,
      "outputs": []
    },
    {
      "cell_type": "markdown",
      "source": [
        "### Training"
      ],
      "metadata": {
        "id": "qt-33bqt3TIa"
      }
    },
    {
      "cell_type": "code",
      "source": [
        "def train_model(data_loader, model, criterion, optimizer, num_epochs=10):\n",
        "    model.train()  # Set the model to training mode\n",
        "    for epoch in range(num_epochs):\n",
        "        running_loss = 0.0\n",
        "        for game_states, safety_boards in data_loader:\n",
        "            optimizer.zero_grad()\n",
        "            outputs = model(game_states)\n",
        "            loss = criterion(outputs, safety_boards.unsqueeze(1))\n",
        "            loss.backward()\n",
        "            optimizer.step()\n",
        "            running_loss += loss.item()\n",
        "        print(f'Epoch {epoch+1}, Average Loss: {running_loss / len(data_loader)}')"
      ],
      "metadata": {
        "id": "hLDPfGHP3VOF"
      },
      "execution_count": null,
      "outputs": []
    },
    {
      "cell_type": "code",
      "source": [
        "game_states_tensor, safety_boards_tensor = generate_training_data(5000, 9, 9, 10)\n",
        "\n",
        "from torch.utils.data import DataLoader, TensorDataset\n",
        "\n",
        "dataset = TensorDataset(game_states_tensor, safety_boards_tensor)\n",
        "data_loader = DataLoader(dataset, batch_size=32, shuffle=False)\n",
        "\n",
        "\n",
        "# Initialize model\n",
        "board_size = (9, 9)\n",
        "model = MinesweeperCNN(board_size)\n",
        "\n",
        "# Loss function and optimizer\n",
        "criterion = nn.BCELoss()\n",
        "optimizer = optim.Adam(model.parameters(), lr=0.001)\n",
        "\n",
        "# call training\n",
        "train_model(data_loader, model, criterion, optimizer, num_epochs=8)\n"
      ],
      "metadata": {
        "colab": {
          "base_uri": "https://localhost:8080/"
        },
        "id": "CczBL5nHlPMS",
        "outputId": "e18075b6-0c9e-4199-ca85-49f9724bcad2"
      },
      "execution_count": null,
      "outputs": [
        {
          "output_type": "stream",
          "name": "stdout",
          "text": [
            "Epoch 1, Average Loss: 0.1906108399832834\n",
            "Epoch 2, Average Loss: 0.16908026615074911\n",
            "Epoch 3, Average Loss: 0.16560277229707918\n",
            "Epoch 4, Average Loss: 0.16373534183477542\n",
            "Epoch 5, Average Loss: 0.16256728621473565\n",
            "Epoch 6, Average Loss: 0.16174256027047812\n",
            "Epoch 7, Average Loss: 0.16111271540702954\n",
            "Epoch 8, Average Loss: 0.16064061955845496\n"
          ]
        }
      ]
    },
    {
      "cell_type": "markdown",
      "source": [
        "### Testing (with Agent)"
      ],
      "metadata": {
        "id": "zGr6V2Mt3in-"
      }
    },
    {
      "cell_type": "markdown",
      "source": [
        "Note: For testing I will start by selecting a 0 on the board (if there is one) and from there use the network to determine the rest of the moves."
      ],
      "metadata": {
        "id": "HtvawSAZGwxA"
      }
    },
    {
      "cell_type": "code",
      "source": [
        "# Network Bot\n",
        "import torch\n",
        "import numpy as np\n",
        "import random\n",
        "from math import sqrt\n",
        "from scipy import stats\n",
        "\n",
        "def play_game_with_bot(model, game, num_mines, randomize_first_move=False):\n",
        "    with torch.no_grad():\n",
        "        model.eval()\n",
        "        turn_count = 0\n",
        "        first_move_done = False\n",
        "\n",
        "        while True:\n",
        "            if not first_move_done:\n",
        "                if randomize_first_move:\n",
        "                    full_board = game.get_full_board()\n",
        "                    zero_cells = [(x, y) for x in range(game.height) for y in range(game.width) if full_board[x][y] == 0]\n",
        "                    if zero_cells:\n",
        "                        x, y = random.choice(zero_cells)  # Choose a random zero cell\n",
        "                    else:\n",
        "                        x, y = random.randint(0, game.height-1), random.randint(0, game.width-1)\n",
        "                else:\n",
        "                    x, y = random.randint(0, game.height-1), random.randint(0, game.width-1)\n",
        "\n",
        "                result = game.reveal(x, y)\n",
        "                first_move_done = True\n",
        "            else:\n",
        "                current_state = np.array(game.get_visible_board()).reshape(1, 1, game.height, game.width)\n",
        "                current_state_tensor = torch.FloatTensor(current_state)\n",
        "                predictions = model(current_state_tensor).squeeze().numpy()\n",
        "                mask = np.array(game.revealed)\n",
        "                predictions[mask] = -1  # Ignore already revealed cells\n",
        "                x, y = np.unravel_index(np.argmax(predictions), predictions.shape)\n",
        "                result = game.reveal(x, y)\n",
        "\n",
        "            turn_count += 1\n",
        "\n",
        "            if result == -1:\n",
        "                return False, turn_count\n",
        "\n",
        "            # Check if all non-mine cells have been revealed\n",
        "            visible_board = game.get_visible_board()\n",
        "            unrevealed_count = sum(cell == -2 for row in visible_board for cell in row)\n",
        "\n",
        "            if unrevealed_count == num_mines:\n",
        "                return True, turn_count"
      ],
      "metadata": {
        "id": "n2Pe6-cw672b"
      },
      "execution_count": null,
      "outputs": []
    },
    {
      "cell_type": "code",
      "source": [
        "total_games = 500\n",
        "games_won = 0\n",
        "total_steps = 0\n",
        "steps_list = []\n",
        "\n",
        "for _ in range(total_games):\n",
        "    game = Minesweeper(width=9, height=9, num_mines=10)  # Initialize a new game for each iteration\n",
        "    won, steps = play_game_with_bot(model, game, num_mines=10, randomize_first_move=True)\n",
        "    if won:\n",
        "        games_won += 1\n",
        "    total_steps += steps\n",
        "    steps_list.append(steps)\n",
        "\n",
        "# Win Rate\n",
        "win_rate = games_won / total_games\n",
        "win_rate_variance = win_rate * (1 - win_rate) / total_games\n",
        "win_rate_ci = stats.norm.interval(0.95, loc=win_rate, scale=sqrt(win_rate_variance))\n",
        "\n",
        "# Average Steps\n",
        "average_steps = total_steps / total_games\n",
        "steps_variance = np.var(steps_list, ddof=1)\n",
        "steps_std = sqrt(steps_variance)\n",
        "steps_ci = stats.t.interval(0.95, df=total_games-1, loc=average_steps, scale=steps_std/sqrt(total_games))\n",
        "\n",
        "# Output Results\n",
        "print(f\"Games Played: {total_games}\")\n",
        "print(f\"Games Won: {games_won}\")\n",
        "print(f\"Win Rate: {win_rate * 100:.2f}%\")\n",
        "print(f\"Win Rate with 95% Confidence Interval: ({win_rate_ci[0] * 100:.2f}%, {win_rate_ci[1] * 100:.2f}%)\")\n",
        "print(f\"Average Steps Survived: {average_steps:.2f}\")\n",
        "print(f\"Average Steps 95% Confidence Interval: ({steps_ci[0]:.2f}, {steps_ci[1]:.2f})\")\n"
      ],
      "metadata": {
        "colab": {
          "base_uri": "https://localhost:8080/"
        },
        "id": "5WUeYUc6bM8H",
        "outputId": "5cf290e3-2324-431c-942b-6f45d0690233"
      },
      "execution_count": null,
      "outputs": [
        {
          "output_type": "stream",
          "name": "stdout",
          "text": [
            "Games Played: 500\n",
            "Games Won: 436\n",
            "Win Rate: 87.20%\n",
            "Win Rate with 95% Confidence Interval: (84.27%, 90.13%)\n",
            "Average Steps Survived: 69.25\n",
            "Average Steps 95% Confidence Interval: (68.48, 70.02)\n"
          ]
        }
      ]
    },
    {
      "cell_type": "markdown",
      "source": [
        "### Trying to Encorporate Self-Attention into Model"
      ],
      "metadata": {
        "id": "_mKURFSAi2J1"
      }
    },
    {
      "cell_type": "markdown",
      "source": [
        "Now I will try training the same way, but use a different neural network that uses self attention to see if I can capture more complex trends in the boards."
      ],
      "metadata": {
        "id": "50cQLr_lRwHM"
      }
    },
    {
      "cell_type": "code",
      "source": [
        "import torch\n",
        "import torch.nn as nn\n",
        "import torch.optim as optim\n",
        "\n",
        "class SelfAttention(nn.Module):\n",
        "    def __init__(self, in_channels):\n",
        "        super(SelfAttention, self).__init__()\n",
        "        self.query_conv = nn.Conv2d(in_channels, in_channels // 8, kernel_size=1)\n",
        "        self.key_conv = nn.Conv2d(in_channels, in_channels // 8, kernel_size=1)\n",
        "        self.value_conv = nn.Conv2d(in_channels, in_channels, kernel_size=1)\n",
        "        self.gamma = nn.Parameter(torch.zeros(1))\n",
        "        self.softmax = nn.Softmax(dim=-1)\n",
        "\n",
        "    def forward(self, x):\n",
        "        batch_size, C, width, height = x.size()\n",
        "        query = self.query_conv(x).view(batch_size, -1, width * height).permute(0, 2, 1)\n",
        "        key = self.key_conv(x).view(batch_size, -1, width * height)\n",
        "        attention = self.softmax(torch.bmm(query, key))\n",
        "        value = self.value_conv(x).view(batch_size, -1, width * height)\n",
        "        out = torch.bmm(value, attention.permute(0, 2, 1)).view(batch_size, C, width, height)\n",
        "        out = self.gamma * out + x\n",
        "        return out\n",
        "\n",
        "class MinesweeperAttentionCNN(nn.Module):\n",
        "    def __init__(self, board_size):\n",
        "        super(MinesweeperAttentionCNN, self).__init__()\n",
        "        self.conv1 = nn.Conv2d(1, 32, kernel_size=5, padding=2)\n",
        "        self.conv2 = nn.Conv2d(32, 64, kernel_size=3, padding=1)\n",
        "        self.attention = SelfAttention(64)\n",
        "        self.conv3 = nn.Conv2d(64, 1, kernel_size=3, padding=1)\n",
        "\n",
        "        self.sigmoid = nn.Sigmoid()\n",
        "\n",
        "    def forward(self, x):\n",
        "        x = torch.relu(self.conv1(x))\n",
        "        x = torch.relu(self.conv2(x))\n",
        "        x = self.attention(x)\n",
        "        x = self.sigmoid(self.conv3(x))\n",
        "        return x"
      ],
      "metadata": {
        "id": "N-UhbiN_8N96"
      },
      "execution_count": null,
      "outputs": []
    },
    {
      "cell_type": "code",
      "source": [
        "game_states_tensor, safety_boards_tensor = generate_training_data(5000, 9, 9, 10)\n",
        "\n",
        "from torch.utils.data import DataLoader, TensorDataset\n",
        "\n",
        "dataset = TensorDataset(game_states_tensor, safety_boards_tensor)\n",
        "data_loader = DataLoader(dataset, batch_size=32, shuffle=False)\n",
        "\n",
        "# Initialize the model\n",
        "board_size = (9, 9)\n",
        "model = MinesweeperAttentionCNN(board_size)\n",
        "\n",
        "# Loss function and optimizer\n",
        "criterion = nn.BCELoss()\n",
        "optimizer = optim.Adam(model.parameters(), lr=0.001)\n",
        "\n",
        "# Call training with your unchanged function\n",
        "train_model(data_loader, model, criterion, optimizer, num_epochs=8)\n"
      ],
      "metadata": {
        "colab": {
          "base_uri": "https://localhost:8080/"
        },
        "id": "NXsGPtbVCtgC",
        "outputId": "61f00f51-631d-44fd-f8b8-86efc85d11c4"
      },
      "execution_count": null,
      "outputs": [
        {
          "output_type": "stream",
          "name": "stdout",
          "text": [
            "Epoch 1, Average Loss: 0.1866335010518322\n",
            "Epoch 2, Average Loss: 0.16916693315187997\n",
            "Epoch 3, Average Loss: 0.16553650869569117\n",
            "Epoch 4, Average Loss: 0.16352293354010905\n",
            "Epoch 5, Average Loss: 0.16241917312839335\n",
            "Epoch 6, Average Loss: 0.16137535993045357\n",
            "Epoch 7, Average Loss: 0.16069654787765125\n",
            "Epoch 8, Average Loss: 0.1602048155317014\n"
          ]
        }
      ]
    },
    {
      "cell_type": "markdown",
      "source": [
        "Now I will test the model using a network bot to determine how well it performs compared to the logic bot and to the other network that doesn't use attention."
      ],
      "metadata": {
        "id": "FHcIQkBCQxgo"
      }
    },
    {
      "cell_type": "code",
      "source": [
        "total_games = 500\n",
        "games_won = 0\n",
        "total_steps = 0\n",
        "steps_list = []\n",
        "\n",
        "for _ in range(total_games):\n",
        "    game = Minesweeper(width=9, height=9, num_mines=10)  # Initialize a new game for each iteration\n",
        "    won, steps = play_game_with_bot(model, game, num_mines=10, randomize_first_move=True)\n",
        "    if won:\n",
        "        games_won += 1\n",
        "    total_steps += steps\n",
        "    steps_list.append(steps)\n",
        "\n",
        "# Win Rate\n",
        "win_rate = games_won / total_games\n",
        "win_rate_variance = win_rate * (1 - win_rate) / total_games\n",
        "win_rate_ci = stats.norm.interval(0.95, loc=win_rate, scale=sqrt(win_rate_variance))\n",
        "\n",
        "# Average Steps\n",
        "average_steps = total_steps / total_games\n",
        "steps_variance = np.var(steps_list, ddof=1)\n",
        "steps_std = sqrt(steps_variance)\n",
        "steps_ci = stats.t.interval(0.95, df=total_games-1, loc=average_steps, scale=steps_std/sqrt(total_games))\n",
        "\n",
        "# Output Results\n",
        "print(f\"Games Played: {total_games}\")\n",
        "print(f\"Games Won: {games_won}\")\n",
        "print(f\"Win Rate: {win_rate * 100:.2f}%\")\n",
        "print(f\"Win Rate with 95% Confidence Interval: ({win_rate_ci[0] * 100:.2f}%, {win_rate_ci[1] * 100:.2f}%)\")\n",
        "print(f\"Average Steps Survived: {average_steps:.2f}\")\n",
        "print(f\"Average Steps 95% Confidence Interval: ({steps_ci[0]:.2f}, {steps_ci[1]:.2f})\")\n"
      ],
      "metadata": {
        "colab": {
          "base_uri": "https://localhost:8080/"
        },
        "id": "v2mjrDHfQzmH",
        "outputId": "1bc2635e-d54c-490f-a912-409d23d5fb6a"
      },
      "execution_count": null,
      "outputs": [
        {
          "output_type": "stream",
          "name": "stdout",
          "text": [
            "Games Played: 500\n",
            "Games Won: 420\n",
            "Win Rate: 84.00%\n",
            "Win Rate with 95% Confidence Interval: (80.79%, 87.21%)\n",
            "Average Steps Survived: 69.29\n",
            "Average Steps 95% Confidence Interval: (68.56, 70.01)\n"
          ]
        }
      ]
    },
    {
      "cell_type": "markdown",
      "source": [
        "From these results, this model seems to perform better than the logic bot in terms of win rate and average steps survived. It performed comparably to the network with just CNN layers in terms of average steps survived, but slightly worse in terms of win rate.\n",
        "\n",
        "Now, I will train the network for medium level problems."
      ],
      "metadata": {
        "id": "eY7MMTskSeQ2"
      }
    },
    {
      "cell_type": "markdown",
      "source": [
        "### Training & Testing for Medium Difficulty"
      ],
      "metadata": {
        "id": "i-m4mVcpcTMz"
      }
    },
    {
      "cell_type": "code",
      "source": [
        "game_states_tensor, safety_boards_tensor = generate_training_data(1000, 16, 16, 40)\n",
        "\n",
        "from torch.utils.data import DataLoader, TensorDataset\n",
        "\n",
        "dataset = TensorDataset(game_states_tensor, safety_boards_tensor)\n",
        "data_loader = DataLoader(dataset, batch_size=64, shuffle=False)\n",
        "\n",
        "# Initialize the model\n",
        "board_size = (16, 16)\n",
        "medium_model = MinesweeperAttentionCNN(board_size)\n",
        "\n",
        "# Loss function and optimizer\n",
        "criterion = nn.BCELoss()\n",
        "optimizer = optim.Adam(medium_model.parameters(), lr=0.001)\n",
        "\n",
        "# Call training with your unchanged function\n",
        "train_model(data_loader, medium_model, criterion, optimizer, num_epochs=4)"
      ],
      "metadata": {
        "colab": {
          "base_uri": "https://localhost:8080/"
        },
        "id": "MduYxEW3cbqq",
        "outputId": "05b72414-28c2-442c-f6cd-935ee79593b5"
      },
      "execution_count": null,
      "outputs": [
        {
          "output_type": "stream",
          "name": "stdout",
          "text": [
            "Epoch 1, Average Loss: 0.24450843217546575\n",
            "Epoch 2, Average Loss: 0.2197058246497727\n",
            "Epoch 3, Average Loss: 0.2133476423872231\n",
            "Epoch 4, Average Loss: 0.20980224105607428\n"
          ]
        }
      ]
    },
    {
      "cell_type": "markdown",
      "source": [
        "This loss would have probably continued to decrease if I trained for more epochs, but training took a really long time, so I did not continue."
      ],
      "metadata": {
        "id": "BKl0PuoHKgL2"
      }
    },
    {
      "cell_type": "code",
      "source": [
        "# Network Bot\n",
        "import torch\n",
        "import numpy as np\n",
        "import random\n",
        "from math import sqrt\n",
        "from scipy import stats\n",
        "\n",
        "def play_game_with_bot(model, game, num_mines, randomize_first_move=False):\n",
        "    with torch.no_grad():\n",
        "        model.eval()\n",
        "        turn_count = 0\n",
        "        first_move_done = False\n",
        "\n",
        "        while True:\n",
        "            if not first_move_done:\n",
        "                if randomize_first_move:\n",
        "                    full_board = game.get_full_board()\n",
        "                    zero_cells = [(x, y) for x in range(game.height) for y in range(game.width) if full_board[x][y] == 0]\n",
        "                    if zero_cells:\n",
        "                        x, y = random.choice(zero_cells)\n",
        "                    else:\n",
        "                        x, y = random.randint(0, game.height-1), random.randint(0, game.width-1)\n",
        "                else:\n",
        "                    x, y = random.randint(0, game.height-1), random.randint(0, game.width-1)\n",
        "\n",
        "                result = game.reveal(x, y)\n",
        "                first_move_done = True\n",
        "            else:\n",
        "                current_state = np.array(game.get_visible_board()).reshape(1, 1, game.height, game.width)\n",
        "                current_state_tensor = torch.FloatTensor(current_state)\n",
        "                predictions = model(current_state_tensor).squeeze().numpy()\n",
        "                mask = np.array(game.revealed)\n",
        "                predictions[mask] = -1  # Ignore already revealed cells\n",
        "                x, y = np.unravel_index(np.argmax(predictions), predictions.shape)\n",
        "                result = game.reveal(x, y)\n",
        "\n",
        "            turn_count += 1\n",
        "\n",
        "            if result == -1:\n",
        "                return False, turn_count\n",
        "\n",
        "            # Check if all non-mine cells have been revealed\n",
        "            visible_board = game.get_visible_board()\n",
        "            unrevealed_count = sum(cell == -2 for row in visible_board for cell in row)\n",
        "\n",
        "            if unrevealed_count == num_mines:\n",
        "                return True, turn_count"
      ],
      "metadata": {
        "id": "5z4jgl5WPsNV"
      },
      "execution_count": null,
      "outputs": []
    },
    {
      "cell_type": "code",
      "source": [
        "total_games = 500\n",
        "games_won = 0\n",
        "total_steps = 0\n",
        "steps_list = []\n",
        "\n",
        "for _ in range(total_games):\n",
        "    game = Minesweeper(width=16, height=16, num_mines=40)\n",
        "    won, steps = play_game_with_bot(medium_model, game, num_mines=40, randomize_first_move=True)\n",
        "    if won:\n",
        "        games_won += 1\n",
        "    total_steps += steps\n",
        "    steps_list.append(steps)\n",
        "\n",
        "# Win Rate\n",
        "win_rate = games_won / total_games\n",
        "win_rate_variance = win_rate * (1 - win_rate) / total_games\n",
        "win_rate_ci = stats.norm.interval(0.95, loc=win_rate, scale=sqrt(win_rate_variance))\n",
        "\n",
        "# Average Steps\n",
        "average_steps = total_steps / total_games\n",
        "steps_variance = np.var(steps_list, ddof=1)\n",
        "steps_std = sqrt(steps_variance)\n",
        "steps_ci = stats.t.interval(0.95, df=total_games-1, loc=average_steps, scale=steps_std/sqrt(total_games))\n",
        "\n",
        "# Output Results\n",
        "print(f\"Games Played: {total_games}\")\n",
        "print(f\"Games Won: {games_won}\")\n",
        "print(f\"Win Rate: {win_rate * 100:.2f}%\")\n",
        "print(f\"Win Rate with 95% Confidence Interval: ({win_rate_ci[0] * 100:.2f}%, {win_rate_ci[1] * 100:.2f}%)\")\n",
        "print(f\"Average Steps Survived: {average_steps:.2f}\")\n",
        "print(f\"Average Steps 95% Confidence Interval: ({steps_ci[0]:.2f}, {steps_ci[1]:.2f})\")"
      ],
      "metadata": {
        "colab": {
          "base_uri": "https://localhost:8080/"
        },
        "id": "dCeIIugG6X2k",
        "outputId": "53097302-6e8e-4aed-d6c7-6d94ce166818"
      },
      "execution_count": null,
      "outputs": [
        {
          "output_type": "stream",
          "name": "stdout",
          "text": [
            "Games Played: 500\n",
            "Games Won: 305\n",
            "Win Rate: 61.00%\n",
            "Win Rate with 95% Confidence Interval: (56.72%, 65.28%)\n",
            "Average Steps Survived: 111.80\n",
            "Average Steps 95% Confidence Interval: (106.37, 117.24)\n"
          ]
        }
      ]
    },
    {
      "cell_type": "markdown",
      "source": [
        "After using the network bot to test how well the model performs, we can see from the results that it performs better than the logic bot, both in terms of the win rate and the average steps survived. This may be because the network is able to recognize deeper patterns through the CNN layers and self attention. On the other hand, that the logic bot can only make decisions based on explicit clues and rules derived from the revealed cells, limiting what it can do in certain situations.\n",
        "\n",
        "\n",
        "\n",
        "Now I will print the decisions the network bot makes throughout one game to see how it compares to what the logic bot would click on."
      ],
      "metadata": {
        "id": "tLF6NrYUSNsc"
      }
    },
    {
      "cell_type": "code",
      "source": [
        "# COMPARE DECISIONS OF LOGIC BOT VS NETWORK BOT\n",
        "import torch\n",
        "import numpy as np\n",
        "import random\n",
        "\n",
        "def play_game_with_bot(model, game, randomize_first_move=True):\n",
        "    with torch.no_grad():\n",
        "        model.eval()\n",
        "        first_move_done = False\n",
        "        turn_count = 0\n",
        "\n",
        "        while True:\n",
        "            if not first_move_done:\n",
        "                if randomize_first_move:\n",
        "                    full_board = game.get_full_board()\n",
        "                    zero_cells = [(x, y) for x in range(game.height) for y in range(game.width) if full_board[x][y] == 0]\n",
        "\n",
        "                    if zero_cells:\n",
        "                        x, y = random.choice(zero_cells)\n",
        "                    else:\n",
        "                        x, y = random.randint(0, game.height-1), random.randint(0, game.width-1)\n",
        "\n",
        "                    result = game.reveal(x, y)\n",
        "                    print(f\"Turn {turn_count}: First move at ({x}, {y}) - Result: {result}\")\n",
        "                    first_move_done = True\n",
        "                else:\n",
        "                    x, y = random.randint(0, game.height-1), random.randint(0, game.width-1)\n",
        "                    result = game.reveal(x, y)\n",
        "                    print(f\"Turn {turn_count}: First move at ({x}, {y}) - Result: {result}\")\n",
        "                    first_move_done = True\n",
        "            else:\n",
        "                current_state = np.array(game.get_visible_board()).reshape(1, 1, game.height, game.width)\n",
        "                current_state_tensor = torch.FloatTensor(current_state)\n",
        "                predictions = model(current_state_tensor).squeeze().numpy()\n",
        "                mask = np.array(game.revealed)\n",
        "                predictions[mask] = -1  # Ignore already revealed cells\n",
        "\n",
        "                x, y = np.unravel_index(np.argmax(predictions), predictions.shape)\n",
        "                result = game.reveal(x, y)\n",
        "                print(f\"Turn {turn_count}: Choosing cell ({x}, {y}) - Result: {result}\")\n",
        "\n",
        "            turn_count += 1\n",
        "\n",
        "            if result == -1:\n",
        "                print(f\"Game Over: Hit a mine at cell ({x}, {y}) after {turn_count} turns\")\n",
        "                return False\n",
        "\n",
        "            # Check if all non-mine cells have been revealed\n",
        "            visible_board = game.get_visible_board()\n",
        "            unrevealed_count = sum(cell == -2 for row in visible_board for cell in row)\n",
        "\n",
        "            if unrevealed_count == 40:\n",
        "                print(\"Game Won: All safe cells revealed\")\n",
        "                return True\n",
        "\n",
        "\n",
        "game = Minesweeper(16, 16, 40)\n",
        "print(game.get_full_board())\n",
        "result = play_game_with_bot(medium_model, game, randomize_first_move=True)\n",
        "\n",
        "print(\"Testing result:\", \"Won\" if result else \"Lost\")"
      ],
      "metadata": {
        "colab": {
          "base_uri": "https://localhost:8080/"
        },
        "id": "eZrl916bUeSV",
        "outputId": "ad4fabef-2129-4213-9af3-d703883dce12"
      },
      "execution_count": null,
      "outputs": [
        {
          "output_type": "stream",
          "name": "stdout",
          "text": [
            "[[0, 0, 1, 2, -1, 1, 0, 0, 0, 0, 0, 0, 0, 0, 0, 0], [0, 0, 1, -1, 3, 2, 1, 0, 0, 1, 2, 2, 2, 2, 2, 1], [1, 1, 3, 3, 4, -1, 1, 0, 0, 2, -1, -1, 3, -1, -1, 1], [1, -1, 2, -1, -1, 2, 1, 0, 0, 2, -1, 4, -1, 3, 2, 1], [1, 1, 2, 2, 2, 1, 0, 0, 0, 1, 2, 3, 2, 1, 0, 0], [0, 0, 0, 0, 0, 0, 0, 0, 0, 0, 1, -1, 1, 1, 1, 1], [0, 0, 0, 0, 1, 2, 2, 1, 0, 0, 1, 1, 1, 1, -1, 1], [0, 0, 0, 0, 2, -1, -1, 1, 0, 1, 1, 1, 0, 1, 1, 1], [2, 2, 1, 0, 2, -1, 3, 1, 0, 1, -1, 1, 0, 0, 0, 0], [-1, -1, 3, 2, 3, 4, 3, 1, 0, 1, 1, 1, 0, 0, 0, 0], [4, -1, -1, 3, -1, -1, -1, 1, 0, 0, 0, 0, 0, 0, 0, 0], [-1, 3, 2, 4, -1, 5, 2, 1, 0, 0, 0, 0, 0, 0, 0, 0], [1, 2, 1, 3, -1, 3, 1, 2, 1, 2, 1, 1, 0, 0, 1, 1], [0, 2, -1, 3, 1, 2, -1, 3, -1, 2, -1, 1, 0, 1, 2, -1], [1, 3, -1, 3, 1, 2, 3, -1, 3, 2, 1, 1, 0, 1, -1, 3], [-1, 2, 1, 2, -1, 1, 2, -1, 2, 0, 0, 0, 0, 1, 2, -1]]\n",
            "Turn 0: First move at (6, 2) - Result: 0\n",
            "Turn 1: Choosing cell (6, 1) - Result: 0\n",
            "Turn 2: Choosing cell (7, 2) - Result: 0\n",
            "Turn 3: Choosing cell (7, 1) - Result: 0\n",
            "Turn 4: Choosing cell (5, 1) - Result: 0\n",
            "Turn 5: Choosing cell (6, 0) - Result: 0\n",
            "Turn 6: Choosing cell (5, 2) - Result: 0\n",
            "Turn 7: Choosing cell (6, 3) - Result: 0\n",
            "Turn 8: Choosing cell (4, 1) - Result: 1\n",
            "Turn 9: Choosing cell (5, 3) - Result: 0\n",
            "Turn 10: Choosing cell (4, 2) - Result: 2\n",
            "Turn 11: Choosing cell (5, 0) - Result: 0\n",
            "Turn 12: Choosing cell (4, 0) - Result: 1\n",
            "Turn 13: Choosing cell (8, 2) - Result: 1\n",
            "Turn 14: Choosing cell (8, 1) - Result: 2\n",
            "Turn 15: Choosing cell (5, 4) - Result: 0\n",
            "Turn 16: Choosing cell (4, 3) - Result: 2\n",
            "Turn 17: Choosing cell (6, 4) - Result: 1\n",
            "Turn 18: Choosing cell (4, 4) - Result: 2\n",
            "Turn 19: Choosing cell (6, 5) - Result: 2\n",
            "Turn 20: Choosing cell (4, 5) - Result: 1\n",
            "Turn 21: Choosing cell (3, 0) - Result: 1\n",
            "Turn 22: Choosing cell (7, 3) - Result: 0\n",
            "Turn 23: Choosing cell (8, 0) - Result: 2\n",
            "Turn 24: Choosing cell (7, 4) - Result: 2\n",
            "Turn 25: Choosing cell (4, 6) - Result: 0\n",
            "Turn 26: Choosing cell (5, 5) - Result: 0\n",
            "Turn 27: Choosing cell (5, 7) - Result: 0\n",
            "Turn 28: Choosing cell (6, 6) - Result: 2\n",
            "Turn 29: Choosing cell (4, 7) - Result: 0\n",
            "Turn 30: Choosing cell (3, 6) - Result: 1\n",
            "Turn 31: Choosing cell (3, 7) - Result: 0\n",
            "Turn 32: Choosing cell (4, 8) - Result: 0\n",
            "Turn 33: Choosing cell (3, 8) - Result: 0\n",
            "Turn 34: Choosing cell (5, 8) - Result: 0\n",
            "Turn 35: Choosing cell (6, 8) - Result: 0\n",
            "Turn 36: Choosing cell (6, 7) - Result: 1\n",
            "Turn 37: Choosing cell (4, 9) - Result: 1\n",
            "Turn 38: Choosing cell (5, 9) - Result: 0\n",
            "Turn 39: Choosing cell (2, 8) - Result: 0\n",
            "Turn 40: Choosing cell (2, 7) - Result: 0\n",
            "Turn 41: Choosing cell (1, 7) - Result: 0\n",
            "Turn 42: Choosing cell (2, 6) - Result: 1\n",
            "Turn 43: Choosing cell (1, 8) - Result: 0\n",
            "Turn 44: Choosing cell (0, 7) - Result: 0\n",
            "Turn 45: Choosing cell (1, 6) - Result: 1\n",
            "Turn 46: Choosing cell (0, 8) - Result: 0\n",
            "Turn 47: Choosing cell (0, 6) - Result: 0\n",
            "Turn 48: Choosing cell (1, 9) - Result: 1\n",
            "Turn 49: Choosing cell (2, 9) - Result: 2\n",
            "Turn 50: Choosing cell (0, 9) - Result: 0\n",
            "Turn 51: Choosing cell (1, 5) - Result: 2\n",
            "Turn 52: Choosing cell (3, 9) - Result: 2\n",
            "Turn 53: Choosing cell (0, 10) - Result: 0\n",
            "Turn 54: Choosing cell (5, 10) - Result: 1\n",
            "Turn 55: Choosing cell (6, 9) - Result: 0\n",
            "Turn 56: Choosing cell (6, 10) - Result: 1\n",
            "Turn 57: Choosing cell (7, 8) - Result: 0\n",
            "Turn 58: Choosing cell (7, 9) - Result: 1\n",
            "Turn 59: Choosing cell (7, 7) - Result: 1\n",
            "Turn 60: Choosing cell (1, 10) - Result: 2\n",
            "Turn 61: Choosing cell (5, 6) - Result: 0\n",
            "Turn 62: Choosing cell (1, 11) - Result: 2\n",
            "Turn 63: Choosing cell (8, 7) - Result: 1\n",
            "Turn 64: Choosing cell (8, 9) - Result: 1\n",
            "Turn 65: Choosing cell (8, 8) - Result: 0\n",
            "Turn 66: Choosing cell (9, 7) - Result: 1\n",
            "Turn 67: Choosing cell (9, 8) - Result: 0\n",
            "Turn 68: Choosing cell (9, 9) - Result: 1\n",
            "Turn 69: Choosing cell (10, 9) - Result: 0\n",
            "Turn 70: Choosing cell (10, 8) - Result: 0\n",
            "Turn 71: Choosing cell (11, 8) - Result: 0\n",
            "Turn 72: Choosing cell (10, 7) - Result: 1\n",
            "Turn 73: Choosing cell (11, 9) - Result: 0\n",
            "Turn 74: Choosing cell (12, 9) - Result: 2\n",
            "Turn 75: Choosing cell (12, 8) - Result: 1\n",
            "Turn 76: Choosing cell (10, 10) - Result: 0\n",
            "Turn 77: Choosing cell (11, 10) - Result: 0\n",
            "Turn 78: Choosing cell (11, 11) - Result: 0\n",
            "Turn 79: Choosing cell (10, 11) - Result: 0\n",
            "Turn 80: Choosing cell (9, 10) - Result: 1\n",
            "Turn 81: Choosing cell (10, 12) - Result: 0\n",
            "Turn 82: Choosing cell (9, 11) - Result: 1\n",
            "Turn 83: Choosing cell (11, 12) - Result: 0\n",
            "Turn 84: Choosing cell (12, 11) - Result: 1\n",
            "Turn 85: Choosing cell (12, 10) - Result: 1\n",
            "Turn 86: Choosing cell (11, 7) - Result: 1\n",
            "Turn 87: Choosing cell (10, 13) - Result: 0\n",
            "Turn 88: Choosing cell (9, 12) - Result: 0\n",
            "Turn 89: Choosing cell (9, 13) - Result: 0\n",
            "Turn 90: Choosing cell (8, 12) - Result: 0\n",
            "Turn 91: Choosing cell (8, 13) - Result: 0\n",
            "Turn 92: Choosing cell (9, 14) - Result: 0\n",
            "Turn 93: Choosing cell (7, 12) - Result: 0\n",
            "Turn 94: Choosing cell (8, 11) - Result: 1\n",
            "Turn 95: Choosing cell (7, 13) - Result: 1\n",
            "Turn 96: Choosing cell (10, 14) - Result: 0\n",
            "Turn 97: Choosing cell (11, 13) - Result: 0\n",
            "Turn 98: Choosing cell (7, 11) - Result: 1\n",
            "Turn 99: Choosing cell (9, 15) - Result: 0\n",
            "Turn 100: Choosing cell (8, 14) - Result: 0\n",
            "Turn 101: Choosing cell (8, 15) - Result: 0\n",
            "Turn 102: Choosing cell (7, 14) - Result: 1\n",
            "Turn 103: Choosing cell (10, 15) - Result: 0\n",
            "Turn 104: Choosing cell (11, 14) - Result: 0\n",
            "Turn 105: Choosing cell (12, 13) - Result: 0\n",
            "Turn 106: Choosing cell (6, 11) - Result: 1\n",
            "Turn 107: Choosing cell (11, 15) - Result: 0\n",
            "Turn 108: Choosing cell (12, 14) - Result: 1\n",
            "Turn 109: Choosing cell (12, 12) - Result: 0\n",
            "Turn 110: Choosing cell (13, 12) - Result: 0\n",
            "Turn 111: Choosing cell (13, 13) - Result: 1\n",
            "Turn 112: Choosing cell (13, 11) - Result: 1\n",
            "Turn 113: Choosing cell (6, 12) - Result: 1\n",
            "Turn 114: Choosing cell (7, 15) - Result: 1\n",
            "Turn 115: Choosing cell (6, 13) - Result: 1\n",
            "Turn 116: Choosing cell (12, 7) - Result: 2\n",
            "Turn 117: Choosing cell (12, 15) - Result: 1\n",
            "Turn 118: Choosing cell (7, 10) - Result: 1\n",
            "Turn 119: Choosing cell (4, 10) - Result: 2\n",
            "Turn 120: Choosing cell (9, 6) - Result: 3\n",
            "Turn 121: Choosing cell (14, 13) - Result: 1\n",
            "Turn 122: Choosing cell (14, 11) - Result: 1\n",
            "Turn 123: Choosing cell (14, 12) - Result: 0\n",
            "Turn 124: Choosing cell (15, 12) - Result: 0\n",
            "Turn 125: Choosing cell (15, 13) - Result: 1\n",
            "Turn 126: Choosing cell (15, 11) - Result: 0\n",
            "Turn 127: Choosing cell (14, 10) - Result: 1\n",
            "Turn 128: Choosing cell (8, 3) - Result: 0\n",
            "Turn 129: Choosing cell (8, 4) - Result: 2\n",
            "Turn 130: Choosing cell (9, 4) - Result: 3\n",
            "Turn 131: Choosing cell (9, 3) - Result: 2\n",
            "Turn 132: Choosing cell (13, 9) - Result: 2\n",
            "Turn 133: Choosing cell (15, 9) - Result: 0\n",
            "Turn 134: Choosing cell (14, 8) - Result: 3\n",
            "Turn 135: Choosing cell (15, 10) - Result: 0\n",
            "Turn 136: Choosing cell (14, 9) - Result: 2\n",
            "Turn 137: Choosing cell (9, 2) - Result: 3\n",
            "Turn 138: Choosing cell (3, 5) - Result: 2\n",
            "Turn 139: Choosing cell (5, 12) - Result: 1\n",
            "Turn 140: Choosing cell (4, 11) - Result: 3\n",
            "Turn 141: Choosing cell (0, 5) - Result: 1\n",
            "Turn 142: Choosing cell (4, 13) - Result: 1\n",
            "Turn 143: Choosing cell (3, 2) - Result: 2\n",
            "Turn 144: Choosing cell (2, 1) - Result: 1\n",
            "Turn 145: Choosing cell (4, 12) - Result: 2\n",
            "Turn 146: Choosing cell (3, 13) - Result: 3\n",
            "Turn 147: Choosing cell (5, 14) - Result: 1\n",
            "Turn 148: Choosing cell (5, 13) - Result: 1\n",
            "Turn 149: Choosing cell (6, 15) - Result: 1\n",
            "Turn 150: Choosing cell (5, 15) - Result: 1\n",
            "Turn 151: Choosing cell (4, 15) - Result: 0\n",
            "Turn 152: Choosing cell (3, 14) - Result: 2\n",
            "Turn 153: Choosing cell (3, 15) - Result: 1\n",
            "Turn 154: Choosing cell (4, 14) - Result: 0\n",
            "Turn 155: Choosing cell (3, 11) - Result: 4\n",
            "Turn 156: Choosing cell (2, 0) - Result: 1\n",
            "Turn 157: Choosing cell (2, 2) - Result: 3\n",
            "Turn 158: Choosing cell (1, 0) - Result: 0\n",
            "Turn 159: Choosing cell (0, 1) - Result: 0\n",
            "Turn 160: Choosing cell (1, 1) - Result: 0\n",
            "Turn 161: Choosing cell (0, 0) - Result: 0\n",
            "Turn 162: Choosing cell (1, 2) - Result: 1\n",
            "Turn 163: Choosing cell (0, 2) - Result: 1\n",
            "Turn 164: Choosing cell (0, 3) - Result: 2\n",
            "Turn 165: Choosing cell (13, 14) - Result: 2\n",
            "Turn 166: Choosing cell (2, 4) - Result: 4\n",
            "Turn 167: Choosing cell (1, 12) - Result: 2\n",
            "Turn 168: Choosing cell (0, 12) - Result: 0\n",
            "Turn 169: Choosing cell (1, 13) - Result: 2\n",
            "Turn 170: Choosing cell (0, 13) - Result: 0\n",
            "Turn 171: Choosing cell (1, 14) - Result: 2\n",
            "Turn 172: Choosing cell (0, 14) - Result: 0\n",
            "Turn 173: Choosing cell (1, 15) - Result: 1\n",
            "Turn 174: Choosing cell (0, 11) - Result: 0\n",
            "Turn 175: Choosing cell (0, 15) - Result: 0\n",
            "Turn 176: Choosing cell (10, 0) - Result: 4\n",
            "Turn 177: Choosing cell (11, 2) - Result: 2\n",
            "Turn 178: Choosing cell (7, 0) - Result: 0\n",
            "Turn 179: Choosing cell (11, 3) - Result: 4\n",
            "Turn 180: Choosing cell (12, 1) - Result: 2\n",
            "Turn 181: Choosing cell (11, 1) - Result: 3\n",
            "Turn 182: Choosing cell (12, 3) - Result: 3\n",
            "Turn 183: Choosing cell (13, 0) - Result: 0\n",
            "Turn 184: Choosing cell (13, 1) - Result: 2\n",
            "Turn 185: Choosing cell (14, 1) - Result: 3\n",
            "Turn 186: Choosing cell (12, 0) - Result: 1\n",
            "Turn 187: Choosing cell (14, 0) - Result: 1\n",
            "Turn 188: Choosing cell (13, 4) - Result: 1\n",
            "Turn 189: Choosing cell (11, 5) - Result: 5\n",
            "Turn 190: Choosing cell (13, 5) - Result: 2\n",
            "Turn 191: Choosing cell (14, 6) - Result: 3\n",
            "Turn 192: Choosing cell (13, 6) - Result: -1\n",
            "Game Over: Hit a mine at cell (13, 6) after 193 turns\n",
            "Testing result: Lost\n"
          ]
        }
      ]
    },
    {
      "cell_type": "markdown",
      "source": [
        "Looking at the moves the network bot is making, they seem similar to the decisions the logic bot would make. The cells that are chosen consequtively tend to be touching or close to each other. The logic bot would sometimes have to choose a cell at random which may be far away from the previous cells it selected when inferred_safe was empty. However, I do not see many instances of this with the network bot. Turns 177-179 are interesting to look at in this game:\n",
        "\n",
        "\n",
        "\n",
        "Turn 177: Choosing cell (11, 2) - Result: 2\n",
        "\n",
        "Turn 178: Choosing cell (7, 0) - Result: 0\n",
        "\n",
        "Turn 179: Choosing cell (11, 3) - Result: 4\n",
        "\n",
        "\n",
        "Even though (11, 2) and (11, 3) are close to each other, they are not clicked consequtively. Instead (7, 0) is clicked in between them. This might demonstrate that the network bot is not simply making decisions based solely on immediate spatial proximity but is also identifying patterns or associations across different areas of the board. By incorporating spatial awareness through convolutional layers and self-attention, the network can infer probable safe cells based on global board patterns rather than just adjacent tiles"
      ],
      "metadata": {
        "id": "i-viGiq6XFBP"
      }
    },
    {
      "cell_type": "markdown",
      "source": [
        "### Training & Testing for Hard Difficulty"
      ],
      "metadata": {
        "id": "J5taJqaHcy9c"
      }
    },
    {
      "cell_type": "code",
      "source": [
        "# Adjusting how data is formatted since it is no longer square\n",
        "import torch\n",
        "import numpy as np\n",
        "\n",
        "def generate_training_data(num_games, width, height, num_mines):\n",
        "    game_states_list = []\n",
        "    safety_boards_list = []\n",
        "\n",
        "    for _ in range(num_games):\n",
        "        full_board, game_steps, won = play_minesweeper(width, height, num_mines)\n",
        "        #if won:\n",
        "        # Convert the full board to a safety board\n",
        "        safety_board = (np.array(full_board) != -1).astype(int).reshape(1, height, width)\n",
        "\n",
        "        # Prepare data for each game state\n",
        "        for state in game_steps:\n",
        "            game_states_list.append(np.array(state).reshape(1, height, width))  # Reshape to (1, height, width)\n",
        "            safety_boards_list.append(safety_board)  # Same safety board for all steps of the game\n",
        "\n",
        "    game_states_array = np.array(game_states_list)\n",
        "    safety_boards_array = np.array(safety_boards_list)\n",
        "\n",
        "    # Convert arrays to tensors\n",
        "    game_states_tensor = torch.FloatTensor(game_states_array)\n",
        "    safety_boards_tensor = torch.FloatTensor(safety_boards_array)\n",
        "\n",
        "    return game_states_tensor, safety_boards_tensor"
      ],
      "metadata": {
        "id": "Sb3qxVRmgrtO"
      },
      "execution_count": null,
      "outputs": []
    },
    {
      "cell_type": "code",
      "source": [
        "game_states_tensor, safety_boards_tensor = generate_training_data(2000, 30, 16, 99)\n",
        "\n",
        "from torch.utils.data import DataLoader, TensorDataset\n",
        "\n",
        "dataset = TensorDataset(game_states_tensor, safety_boards_tensor)\n",
        "data_loader = DataLoader(dataset, batch_size=128, shuffle=False)\n",
        "\n",
        "board_size = (30, 16)\n",
        "hard_model = MinesweeperAttentionCNN(board_size)\n",
        "\n",
        "criterion = nn.BCELoss()\n",
        "optimizer = optim.Adam(hard_model.parameters(), lr=0.001)\n",
        "\n",
        "train_model(data_loader, hard_model, criterion, optimizer, num_epochs=6)"
      ],
      "metadata": {
        "colab": {
          "base_uri": "https://localhost:8080/"
        },
        "id": "bgymTFuEc6TK",
        "outputId": "3e16b3a6-13f9-41dd-c278-1f712d5e879e"
      },
      "execution_count": null,
      "outputs": [
        {
          "output_type": "stream",
          "name": "stdout",
          "text": [
            "Epoch 1, Average Loss: 0.37362768\n",
            "Epoch 2, Average Loss: 0.35092143\n",
            "Epoch 3, Average Loss: 0.33278416\n",
            "Epoch 4, Average Loss: 0.31890762\n",
            "Epoch 5, Average Loss: 0.30543258\n",
            "Epoch 6, Average Loss: 0.29674325\n",
            "Epoch 7, Average Loss: 0.29152319\n"
          ]
        }
      ]
    },
    {
      "cell_type": "markdown",
      "source": [
        "Testing with Network Bot"
      ],
      "metadata": {
        "id": "XW6Pf8A5zC4F"
      }
    },
    {
      "cell_type": "code",
      "source": [
        "total_games = 500\n",
        "games_won = 0\n",
        "total_steps = 0\n",
        "steps_list = []\n",
        "\n",
        "for _ in range(total_games):\n",
        "    game = Minesweeper(width=30, height=16, num_mines=99)  # Initialize a new game for each iteration\n",
        "    won, steps = play_game_with_bot(hard_model, game, num_mines=99, randomize_first_move=True)\n",
        "    if won:\n",
        "        games_won += 1\n",
        "    total_steps += steps\n",
        "    steps_list.append(steps)\n",
        "\n",
        "# Win Rate\n",
        "win_rate = games_won / total_games\n",
        "win_rate_variance = win_rate * (1 - win_rate) / total_games\n",
        "win_rate_ci = stats.norm.interval(0.95, loc=win_rate, scale=sqrt(win_rate_variance))\n",
        "\n",
        "# Average Steps\n",
        "average_steps = total_steps / total_games\n",
        "steps_variance = np.var(steps_list, ddof=1)\n",
        "steps_std = sqrt(steps_variance)\n",
        "steps_ci = stats.t.interval(0.95, df=total_games-1, loc=average_steps, scale=steps_std/sqrt(total_games))\n",
        "\n",
        "# Output Results\n",
        "print(f\"Games Played: {total_games}\")\n",
        "print(f\"Games Won: {games_won}\")\n",
        "print(f\"Win Rate: {win_rate * 100:.2f}%\")\n",
        "print(f\"Win Rate with 95% Confidence Interval: ({win_rate_ci[0] * 100:.2f}%, {win_rate_ci[1] * 100:.2f}%)\")\n",
        "print(f\"Average Steps Survived: {average_steps:.2f}\")\n",
        "print(f\"Average Steps 95% Confidence Interval: ({steps_ci[0]:.2f}, {steps_ci[1]:.2f})\")"
      ],
      "metadata": {
        "colab": {
          "base_uri": "https://localhost:8080/"
        },
        "id": "GvFmzNlyzE48",
        "outputId": "bd318a83-32dd-4ac4-f3f7-94c5bbf8aad0"
      },
      "execution_count": null,
      "outputs": [
        {
          "output_type": "stream",
          "name": "stdout",
          "text": [
            "Games Played: 500\n",
            "Games Won: 46\n",
            "Win Rate: 9.20%\n",
            "Win Rate with 95% Confidence Interval: (6.67%, 11.73%)\n",
            "Average Steps Survived: 21.23\n",
            "Average Steps 95% Confidence Interval: (20.80, 21.66)\n"
          ]
        }
      ]
    },
    {
      "cell_type": "markdown",
      "source": [
        "Once again, the network performed better than the logic bot in terms of both win rate and average steps survived."
      ],
      "metadata": {
        "id": "MCUI4XxE0PEJ"
      }
    },
    {
      "cell_type": "markdown",
      "source": [
        "### Trying without maintaining order"
      ],
      "metadata": {
        "id": "VWk_mAzVMufR"
      }
    },
    {
      "cell_type": "markdown",
      "source": [
        "I will shuffle the individual boards in each game so that they will not be in order."
      ],
      "metadata": {
        "id": "VZwOtqnJiZ_A"
      }
    },
    {
      "cell_type": "code",
      "source": [
        "game_states_tensor, safety_boards_tensor = generate_training_data(5000, 9, 9, 10)\n",
        "\n",
        "from torch.utils.data import DataLoader, TensorDataset\n",
        "\n",
        "dataset = TensorDataset(game_states_tensor, safety_boards_tensor)\n",
        "data_loader = DataLoader(dataset, batch_size=128, shuffle=True)\n",
        "\n",
        "board_size = (9, 9)\n",
        "model = MinesweeperAttentionCNN(board_size)\n",
        "\n",
        "criterion = nn.BCELoss()\n",
        "optimizer = optim.Adam(model.parameters(), lr=0.001)\n",
        "\n",
        "train_model(data_loader, model, criterion, optimizer, num_epochs=6)"
      ],
      "metadata": {
        "colab": {
          "base_uri": "https://localhost:8080/"
        },
        "id": "JHQAGeFM0rkA",
        "outputId": "1a048bde-d51f-4250-cd2f-f45fbb17d606"
      },
      "execution_count": null,
      "outputs": [
        {
          "output_type": "stream",
          "name": "stdout",
          "text": [
            "Epoch 1, Average Loss: 0.410543\n",
            "Epoch 2, Average Loss: 0.400721\n",
            "Epoch 3, Average Loss: 0.397842\n",
            "Epoch 4, Average Loss: 0.395973\n",
            "Epoch 5, Average Loss: 0.394886\n",
            "Epoch 6, Average Loss: 0.393917\n"
          ]
        }
      ]
    },
    {
      "cell_type": "markdown",
      "source": [
        "From this code, it looks like shuffling causes the loss to get stuck after only a few epochs and the loss at the end of training is higher than previously, indicating that the data should be kept sequential to get the best results."
      ],
      "metadata": {
        "id": "O98IUnb41uQP"
      }
    }
  ]
}